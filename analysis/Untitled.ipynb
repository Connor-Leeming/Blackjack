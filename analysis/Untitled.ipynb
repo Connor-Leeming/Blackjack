{
 "cells": [
  {
   "cell_type": "code",
   "execution_count": 1,
   "id": "faab022a",
   "metadata": {},
   "outputs": [
    {
     "data": {
      "text/plain": [
       "'0.26%'"
      ]
     },
     "execution_count": 1,
     "metadata": {},
     "output_type": "execute_result"
    }
   ],
   "source": [
    "import Data\n",
    "import analysis\n",
    "\n",
    "sample = Data.outcome_tuples()\n",
    "analysis.house_edge(sample)"
   ]
  },
  {
   "cell_type": "code",
   "execution_count": null,
   "id": "d7868573",
   "metadata": {},
   "outputs": [],
   "source": []
  },
  {
   "cell_type": "code",
   "execution_count": null,
   "id": "c2cfc360",
   "metadata": {},
   "outputs": [],
   "source": []
  },
  {
   "cell_type": "code",
   "execution_count": null,
   "id": "d18bdad8",
   "metadata": {},
   "outputs": [],
   "source": []
  }
 ],
 "metadata": {
  "kernelspec": {
   "display_name": "Python 3 (ipykernel)",
   "language": "python",
   "name": "python3"
  },
  "language_info": {
   "codemirror_mode": {
    "name": "ipython",
    "version": 3
   },
   "file_extension": ".py",
   "mimetype": "text/x-python",
   "name": "python",
   "nbconvert_exporter": "python",
   "pygments_lexer": "ipython3",
   "version": "3.9.13"
  }
 },
 "nbformat": 4,
 "nbformat_minor": 5
}
